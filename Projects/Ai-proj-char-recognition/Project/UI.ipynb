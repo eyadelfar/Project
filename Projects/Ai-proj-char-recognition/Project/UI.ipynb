{
 "cells": [
  {
   "cell_type": "code",
   "execution_count": 1,
   "id": "d4442b7a",
   "metadata": {},
   "outputs": [],
   "source": [
    "from tkinter import *\n",
    "import PIL\n",
    "from PIL import Image, ImageDraw , ImageTk\n",
    "import cv2\n",
    "import matplotlib.pyplot as plt\n",
    "import pandas as pd\n",
    "import pickle as pk\n",
    "import numpy as np\n",
    "import warnings \n",
    "warnings.filterwarnings(\"ignore\")"
   ]
  },
  {
   "cell_type": "code",
   "execution_count": 2,
   "id": "e8d29df3",
   "metadata": {},
   "outputs": [],
   "source": [
    "rf = pk.load(open('Models/rf_clf.sav','rb'))"
   ]
  },
  {
   "cell_type": "code",
   "execution_count": 3,
   "id": "a3baa589",
   "metadata": {},
   "outputs": [],
   "source": [
    "char_map = pd.read_csv('Data/mappings.txt' , delimiter=' ', header=None , index_col=0 , squeeze=True)\n",
    "label_dictionary = {}\n",
    "for index, label in enumerate(char_map):\n",
    "    label_dictionary[index] = chr(label)"
   ]
  },
  {
   "cell_type": "code",
   "execution_count": 4,
   "id": "260b1a8a",
   "metadata": {},
   "outputs": [],
   "source": [
    "def save():\n",
    "    filename = 'Images/img.png' \n",
    "    image1.save(filename)\n",
    "        "
   ]
  },
  {
   "cell_type": "code",
   "execution_count": 5,
   "id": "7b367b53",
   "metadata": {},
   "outputs": [],
   "source": [
    "def activate_paint(e):\n",
    "    global lastx, lasty\n",
    "    cv.bind('<B1-Motion>', paint)\n",
    "    lastx, lasty = e.x, e.y"
   ]
  },
  {
   "cell_type": "code",
   "execution_count": 6,
   "id": "d0198f70",
   "metadata": {},
   "outputs": [],
   "source": [
    "def paint(e):\n",
    "    global lastx, lasty\n",
    "    x, y = e.x, e.y\n",
    "    cv.create_line((lastx, lasty, x, y),fill = 'white', width=20)\n",
    "    #  --- PIL\n",
    "    draw.line((lastx, lasty, x, y), fill='white', width=20)\n",
    "    lastx, lasty = x, y"
   ]
  },
  {
   "cell_type": "code",
   "execution_count": 7,
   "id": "75585bd4",
   "metadata": {},
   "outputs": [],
   "source": [
    "def clear():\n",
    "    cv.delete(\"all\")\n",
    "    redraw()"
   ]
  },
  {
   "cell_type": "code",
   "execution_count": 8,
   "id": "b15b639d",
   "metadata": {},
   "outputs": [],
   "source": [
    "def pred_img():\n",
    "    global text_area , rotate\n",
    "    pix = text_area.get(1.0 , END)\n",
    "    pix = pix.split('\\t')\n",
    "    pix = np.asarray(pix)\n",
    "    pix = rotate(pix)\n",
    "    pix = pix.astype(float)\n",
    "    pix = pix.reshape(-1)\n",
    "    y_pred_samp = rf.predict([pix])\n",
    "\n",
    "    label_pred.config(text = \"Predicted: \" + label_dictionary[( y_pred_samp[0] )] )    \n",
    "    "
   ]
  },
  {
   "cell_type": "code",
   "execution_count": 9,
   "id": "59890713",
   "metadata": {},
   "outputs": [],
   "source": [
    "def get_pred_dr():\n",
    "    global pred_text\n",
    "    im = cv2.imread('Images/img.png')\n",
    "    final = resize_img(im)\n",
    "    final = final.reshape(-1)\n",
    "    y_pred_samp = rf.predict([final])\n",
    "    label_pred.config(text = \"Predicted: \" + label_dictionary[( y_pred_samp[0] )] )"
   ]
  },
  {
   "cell_type": "code",
   "execution_count": 10,
   "id": "0864328f",
   "metadata": {},
   "outputs": [],
   "source": [
    "def resize_img(cimage):\n",
    "    gray = cv2.cvtColor(cimage , cv2.COLOR_BGR2GRAY)\n",
    "    resized_img = cv2.resize(gray , (28,28) , interpolation = cv2.INTER_AREA)\n",
    "    return resized_img"
   ]
  },
  {
   "cell_type": "code",
   "execution_count": 11,
   "id": "39054545",
   "metadata": {},
   "outputs": [],
   "source": [
    "def redraw():\n",
    "    global image1 , draw\n",
    "    image1 = PIL.Image.new('L', (140,140), 'black')\n",
    "    draw = ImageDraw.Draw(image1)"
   ]
  },
  {
   "cell_type": "code",
   "execution_count": 12,
   "id": "4c474aeb",
   "metadata": {},
   "outputs": [],
   "source": [
    "def get_img_from_pixels():\n",
    "\n",
    "    global text_area , im , rotate , img_label , temp\n",
    "    \n",
    "    pix = text_area.get(1.0 , END)\n",
    "    pix = pix.split('\\t')\n",
    "    pix = np.asarray(pix)\n",
    "    pix = rotate(pix)\n",
    "    pix = pix.astype(float)\n",
    "    plt.imsave('Images/new.png', pix)\n",
    "\n",
    "    \n",
    "    def_img = Image.open(\"Images/new.png\")\n",
    "    re_img = def_img.resize((140,140) , Image.ANTIALIAS)\n",
    "    im = ImageTk.PhotoImage(re_img)\n",
    "    img_label.config(image = im,   width=140 , height = 140)\n",
    "\n",
    "\n",
    "    "
   ]
  },
  {
   "cell_type": "code",
   "execution_count": 13,
   "id": "94868076",
   "metadata": {},
   "outputs": [],
   "source": [
    "def rotate(image):\n",
    "    image = image.reshape([28, 28])\n",
    "    image = np.fliplr(image)\n",
    "    image = np.rot90(image)\n",
    "    return image"
   ]
  },
  {
   "cell_type": "code",
   "execution_count": null,
   "id": "ee4595ed",
   "metadata": {},
   "outputs": [],
   "source": []
  },
  {
   "cell_type": "code",
   "execution_count": 14,
   "id": "2104278e",
   "metadata": {},
   "outputs": [
    {
     "name": "stderr",
     "output_type": "stream",
     "text": [
      "Exception in Tkinter callback\n",
      "Traceback (most recent call last):\n",
      "  File \"C:\\Users\\Eyad\\anaconda3\\lib\\tkinter\\__init__.py\", line 1892, in __call__\n",
      "    return self.func(*args)\n",
      "  File \"C:\\Users\\Eyad\\AppData\\Local\\Temp\\ipykernel_18520\\3268989877.py\", line 6, in pred_img\n",
      "    pix = rotate(pix)\n",
      "  File \"C:\\Users\\Eyad\\AppData\\Local\\Temp\\ipykernel_18520\\3964700577.py\", line 2, in rotate\n",
      "    image = image.reshape([28, 28])\n",
      "ValueError: cannot reshape array of size 1 into shape (28,28)\n"
     ]
    }
   ],
   "source": [
    "root = Tk()\n",
    "ico = Image.open('Images/ocr.png')\n",
    "photo = ImageTk.PhotoImage(ico)\n",
    "root.wm_iconphoto(False, photo)\n",
    "root.title(\"Handwritten English Character Recognition\")\n",
    "root.resizable(0,0)\n",
    "root.geometry(\"196x400\")\n",
    "\n",
    "lastx, lasty = None, None\n",
    "image_number = 0\n",
    "pred_text = \"Predicted: \"\n",
    "\n",
    "im = ImageTk.PhotoImage(Image.open('Images/new.png'))\n",
    "### for importing\n",
    "\n",
    "text_area = Text(width=10 , height=1)\n",
    "text_area.pack()\n",
    "\n",
    "btn_enter = Button(text=\"Get Image\", fg = 'white' , bg ='black' , command=get_img_from_pixels)\n",
    "btn_enter.pack()\n",
    "\n",
    "\n",
    "img_label = Label(image= im , width = 140 , height=140)\n",
    "img_label.pack()\n",
    "\n",
    "# image= co_img , width=140 , height = 140\n",
    "\n",
    "\n",
    "\n",
    "\n",
    "### For drawing\n",
    "cv = Canvas(root, width=140, height=140, bg='black')\n",
    "\n",
    "image1 = PIL.Image.new('L', (140,\n",
    "140), 'black')\n",
    "draw = ImageDraw.Draw(image1)\n",
    "\n",
    "cv.bind('<1>', activate_paint)\n",
    "cv.pack()\n",
    "\n",
    "btn_save = Button(text=\"save\", fg = 'white' , bg ='black' , command=save)\n",
    "btn_clear = Button(text=\"clear\", fg = 'white' , bg ='black'  , command=clear)\n",
    "\n",
    "btn_save.pack(side= LEFT, padx = 10)\n",
    "btn_clear.pack(side = RIGHT , padx = 10)\n",
    "\n",
    "btn_pred_im = Button(text=\"Predict Img\",fg = 'white' , bg ='black',  command= pred_img)\n",
    "btn_pred_im.pack(side= TOP)\n",
    "\n",
    "btn_pred = Button(text=\"Predict Draw\",fg = 'white' , bg ='black', command= get_pred_dr)\n",
    "btn_pred.pack(side= BOTTOM)\n",
    "\n",
    "label_pred = Label(text=pred_text)\n",
    "label_pred.pack()\n",
    "\n",
    "root.mainloop()"
   ]
  },
  {
   "cell_type": "code",
   "execution_count": null,
   "id": "51ae9e8c",
   "metadata": {},
   "outputs": [],
   "source": []
  },
  {
   "cell_type": "code",
   "execution_count": null,
   "id": "a032ba28",
   "metadata": {},
   "outputs": [],
   "source": [
    "\n"
   ]
  },
  {
   "cell_type": "code",
   "execution_count": null,
   "id": "ce1f60e8",
   "metadata": {},
   "outputs": [],
   "source": []
  },
  {
   "cell_type": "code",
   "execution_count": null,
   "id": "cb4caebb",
   "metadata": {},
   "outputs": [],
   "source": []
  },
  {
   "cell_type": "code",
   "execution_count": null,
   "id": "6d02efe4",
   "metadata": {},
   "outputs": [],
   "source": []
  },
  {
   "cell_type": "code",
   "execution_count": null,
   "id": "02a962e5",
   "metadata": {},
   "outputs": [],
   "source": []
  },
  {
   "cell_type": "code",
   "execution_count": null,
   "id": "403679fc",
   "metadata": {},
   "outputs": [],
   "source": []
  }
 ],
 "metadata": {
  "kernelspec": {
   "display_name": "Python 3 (ipykernel)",
   "language": "python",
   "name": "python3"
  },
  "language_info": {
   "codemirror_mode": {
    "name": "ipython",
    "version": 3
   },
   "file_extension": ".py",
   "mimetype": "text/x-python",
   "name": "python",
   "nbconvert_exporter": "python",
   "pygments_lexer": "ipython3",
   "version": "3.9.12"
  },
  "vscode": {
   "interpreter": {
    "hash": "fd6be785dd4f6abf03ec767980859c4031863ae6109f224716e4cad4f552aef0"
   }
  }
 },
 "nbformat": 4,
 "nbformat_minor": 5
}
